{
 "cells": [
  {
   "cell_type": "code",
   "execution_count": 89,
   "metadata": {},
   "outputs": [],
   "source": [
    "from sklearn.datasets import load_diabetes\n",
    "\n",
    "import numpy as np\n",
    "from sklearn.linear_model import LinearRegression\n",
    "from sklearn.metrics import r2_score\n",
    "from sklearn.model_selection import train_test_split\n",
    "import time"
   ]
  },
  {
   "cell_type": "code",
   "execution_count": 90,
   "metadata": {},
   "outputs": [
    {
     "data": {
      "text/plain": [
       "((331, 10), (111, 10), (331,), (111,))"
      ]
     },
     "execution_count": 90,
     "metadata": {},
     "output_type": "execute_result"
    }
   ],
   "source": [
    "dataset = load_diabetes()\n",
    "X = dataset['data']\n",
    "y = dataset['target']\n",
    "X_train, X_test, y_train, y_test = train_test_split(X,y)\n",
    "X_train.shape, X_test.shape, y_train.shape, y_test.shape"
   ]
  },
  {
   "cell_type": "code",
   "execution_count": null,
   "metadata": {},
   "outputs": [],
   "source": []
  },
  {
   "cell_type": "code",
   "execution_count": null,
   "metadata": {},
   "outputs": [],
   "source": [
    "class BGD:\n",
    "    def __init__(self, learning_rate = 0.01, epochs = 100):\n",
    "        self.coef_ = None\n",
    "        self.intercept_ = None\n",
    "        self.lr = learning_rate\n",
    "        self.epochs = epochs  \n",
    "    \n",
    "    def fit(self, X_train, y_train):\n",
    "        ## initilize\n",
    "        self.intercept_ = 0\n",
    "        self.coef_ = np.ones(X_train.shape[1])\n",
    "        \n",
    "        for i in range(self.epochs):\n",
    "            ## slopes\n",
    "            y_pred = np.dot(X_train, self.coef_) + self.intercept_\n",
    "            intercept_dir = -2 *  np.mean((y_train - y_pred))              \n",
    "            coef_dir = -2 * np.dot((y_train - y_pred), X_train) / X_train.shape[0]\n",
    "            \n",
    "            self.intercept_ = self.intercept_ - (self.lr * intercept_dir)\n",
    "            self.coef_ = self.coef_ - (self.lr * coef_dir)\n",
    "    def predit(self, X_test):\n",
    "        # y = mx+C\n",
    "        return np.dot(X_test, self.coef_) + self.intercept_"
   ]
  },
  {
   "cell_type": "code",
   "execution_count": 118,
   "metadata": {},
   "outputs": [],
   "source": [
    "gdr = BGD(epochs=40)"
   ]
  },
  {
   "cell_type": "code",
   "execution_count": 119,
   "metadata": {},
   "outputs": [],
   "source": [
    "gdr.fit(X_train, y_train)"
   ]
  },
  {
   "cell_type": "code",
   "execution_count": 121,
   "metadata": {},
   "outputs": [
    {
     "data": {
      "text/plain": [
       "array([81.80503275, 83.13786365, 81.81972391, 82.67927195, 81.94753142,\n",
       "       82.36112399, 81.57465948, 83.33983772, 82.60444713, 81.38928893,\n",
       "       82.0672108 , 81.95917907, 82.74531328, 82.07925856, 82.44531161,\n",
       "       83.29408507, 81.59315791, 82.5302143 , 83.47109573, 82.61853086,\n",
       "       81.48003463, 82.69357123, 82.12528306, 81.95553249, 82.86046799,\n",
       "       82.07705758, 81.49505215, 82.29659382, 82.12257277, 82.60802437,\n",
       "       81.71449602, 82.73356771, 82.75352758, 82.15099328, 81.07192432,\n",
       "       82.35383013, 82.36099541, 82.34155466, 82.06908328, 82.30183079,\n",
       "       82.18641165, 81.2479545 , 82.61940988, 82.68419007, 82.04177966,\n",
       "       82.25004061, 82.68540366, 83.51758384, 81.6113087 , 82.40952595,\n",
       "       82.71894564, 81.59165689, 81.91503723, 81.72658383, 81.86441686,\n",
       "       82.27354016, 82.90644427, 81.89210204, 81.84712437, 82.10735664,\n",
       "       83.05748954, 81.90398493, 81.84347216, 81.82230616, 82.71094254,\n",
       "       83.09203333, 82.83366512, 82.45988831, 80.98010078, 82.98533215,\n",
       "       81.80188968, 82.15083569, 82.60879342, 81.07031027, 82.71654852,\n",
       "       82.84579804, 82.33529751, 82.58683035, 82.46334647, 82.5136726 ,\n",
       "       82.25704993, 82.82417483, 82.49259662, 81.63134289, 82.4607294 ,\n",
       "       81.40755953, 81.64820158, 82.14604025, 82.4974289 , 81.58653788,\n",
       "       82.13861475, 82.01831248, 81.45870246, 81.98487363, 83.05290791,\n",
       "       82.67488978, 81.42745081, 81.28898388, 82.30863214, 83.1078248 ,\n",
       "       81.7987723 , 82.51523671, 82.42424681, 81.78545729, 81.14517073,\n",
       "       82.90194255, 82.50515288, 82.38865495, 82.33349208, 81.34456247,\n",
       "       81.40826785])"
      ]
     },
     "execution_count": 121,
     "metadata": {},
     "output_type": "execute_result"
    }
   ],
   "source": [
    "gdr.predit(X_test)"
   ]
  },
  {
   "cell_type": "code",
   "execution_count": null,
   "metadata": {},
   "outputs": [],
   "source": []
  },
  {
   "cell_type": "code",
   "execution_count": null,
   "metadata": {},
   "outputs": [],
   "source": []
  }
 ],
 "metadata": {
  "kernelspec": {
   "display_name": "Python 3",
   "language": "python",
   "name": "python3"
  },
  "language_info": {
   "codemirror_mode": {
    "name": "ipython",
    "version": 3
   },
   "file_extension": ".py",
   "mimetype": "text/x-python",
   "name": "python",
   "nbconvert_exporter": "python",
   "pygments_lexer": "ipython3",
   "version": "3.12.0"
  }
 },
 "nbformat": 4,
 "nbformat_minor": 2
}
