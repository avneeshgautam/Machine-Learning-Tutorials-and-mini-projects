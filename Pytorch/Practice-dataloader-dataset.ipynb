{
 "cells": [
  {
   "cell_type": "code",
   "execution_count": 52,
   "metadata": {},
   "outputs": [],
   "source": [
    "# https://raw.githubusercontent.com/patrickloeber/pytorchTutorial/refs/heads/master/data/wine/wine.csv\n",
    "\n",
    "import pandas as pd\n",
    "import numpy as np\n",
    "import torch\n",
    "from pathlib import Path\n",
    "import requests\n",
    "from torch.utils.data import Dataset,DataLoader"
   ]
  },
  {
   "cell_type": "code",
   "execution_count": 20,
   "metadata": {},
   "outputs": [
    {
     "name": "stdout",
     "output_type": "stream",
     "text": [
      "data/wine_data.csv file is already exist .... skipping\n",
      "CSV file is empty :  False\n",
      "DONE \n",
      "______________________\n"
     ]
    }
   ],
   "source": [
    "data_path = Path(\"data/\")\n",
    "wine_data_path = data_path / \"wine_data.csv\"\n",
    "\n",
    "if wine_data_path.is_file() and wine_data_path.stat().st_size > 0:\n",
    "    print(f\"{wine_data_path} file is already exist .... skipping\")\n",
    "    print(\"CSV file is empty : \",wine_data_path.stat().st_size <= 0)\n",
    "else:\n",
    "    print(f\"{wine_data_path} doesn't exit ..... Creating\")\n",
    "    data_path.mkdir(parents=True, exist_ok=True)\n",
    "    csv_url = \"https://raw.githubusercontent.com/patrickloeber/pytorchTutorial/refs/heads/master/data/wine/wine.csv\"\n",
    "    \n",
    "    with open(wine_data_path, \"wb\") as f:\n",
    "        response = requests.get(csv_url)\n",
    "        print(\"downloading csv file\")\n",
    "        f.write(response.content)\n",
    "        print(\"Downloading complete\")\n",
    "\n",
    "print(\"DONE \\n______________________\")\n"
   ]
  },
  {
   "cell_type": "markdown",
   "metadata": {},
   "source": [
    "# Dataloader class"
   ]
  },
  {
   "cell_type": "code",
   "execution_count": 47,
   "metadata": {},
   "outputs": [],
   "source": [
    "class WineDataset(Dataset):\n",
    "\n",
    "    def __init__(self):\n",
    "        xy = np.loadtxt(wine_data_path, delimiter=\",\", dtype=np.float32, skiprows=1)\n",
    "        self.x = torch.from_numpy(xy[:,1:])\n",
    "        self.y = torch.from_numpy(xy[:,0:1])\n",
    "        self.n_sample = xy.shape[0]\n",
    "        \n",
    "    \n",
    "    def __getitem__(self, index):\n",
    "        return self.x[index], self.y[index]\n",
    "    \n",
    "    def __len__(self):\n",
    "        ## len(dataset)\n",
    "        return self.n_sample\n",
    "     \n",
    "    "
   ]
  },
  {
   "cell_type": "code",
   "execution_count": 72,
   "metadata": {},
   "outputs": [],
   "source": [
    "dataset = WineDataset()\n",
    "dataloader = DataLoader(dataset = dataset, batch_size=4, shuffle=True, num_workers=2)"
   ]
  },
  {
   "cell_type": "code",
   "execution_count": 76,
   "metadata": {},
   "outputs": [
    {
     "name": "stdout",
     "output_type": "stream",
     "text": [
      "Total sample : 178 and number of iterations are 45\n",
      "Epoch : 0/4 | Step : 10/45 | Input shape : torch.Size([4, 13]) | Label Shape : torch.Size([4, 1])\n",
      "Epoch : 0/4 | Step : 20/45 | Input shape : torch.Size([4, 13]) | Label Shape : torch.Size([4, 1])\n",
      "Epoch : 0/4 | Step : 30/45 | Input shape : torch.Size([4, 13]) | Label Shape : torch.Size([4, 1])\n",
      "Epoch : 0/4 | Step : 40/45 | Input shape : torch.Size([4, 13]) | Label Shape : torch.Size([4, 1])\n",
      "Epoch : 1/4 | Step : 10/45 | Input shape : torch.Size([4, 13]) | Label Shape : torch.Size([4, 1])\n",
      "Epoch : 1/4 | Step : 20/45 | Input shape : torch.Size([4, 13]) | Label Shape : torch.Size([4, 1])\n",
      "Epoch : 1/4 | Step : 30/45 | Input shape : torch.Size([4, 13]) | Label Shape : torch.Size([4, 1])\n",
      "Epoch : 1/4 | Step : 40/45 | Input shape : torch.Size([4, 13]) | Label Shape : torch.Size([4, 1])\n",
      "Epoch : 2/4 | Step : 10/45 | Input shape : torch.Size([4, 13]) | Label Shape : torch.Size([4, 1])\n",
      "Epoch : 2/4 | Step : 20/45 | Input shape : torch.Size([4, 13]) | Label Shape : torch.Size([4, 1])\n",
      "Epoch : 2/4 | Step : 30/45 | Input shape : torch.Size([4, 13]) | Label Shape : torch.Size([4, 1])\n",
      "Epoch : 2/4 | Step : 40/45 | Input shape : torch.Size([4, 13]) | Label Shape : torch.Size([4, 1])\n",
      "Epoch : 3/4 | Step : 10/45 | Input shape : torch.Size([4, 13]) | Label Shape : torch.Size([4, 1])\n",
      "Epoch : 3/4 | Step : 20/45 | Input shape : torch.Size([4, 13]) | Label Shape : torch.Size([4, 1])\n",
      "Epoch : 3/4 | Step : 30/45 | Input shape : torch.Size([4, 13]) | Label Shape : torch.Size([4, 1])\n",
      "Epoch : 3/4 | Step : 40/45 | Input shape : torch.Size([4, 13]) | Label Shape : torch.Size([4, 1])\n"
     ]
    }
   ],
   "source": [
    "import math\n",
    "epochs = 4\n",
    "total_sample = len(dataset)\n",
    "batch_size = 4\n",
    "n_iteration = math.ceil(total_sample / batch_size)\n",
    "print(f\"Total sample : {total_sample} and number of iterations are {n_iteration}\")\n",
    "\n",
    "for epoch in range(epochs):\n",
    "    for i, (input, labels) in enumerate(dataloader):\n",
    "        ## forward pass\n",
    "        if ( i+1 )% 10 == 0:\n",
    "            print(f\"Epoch : {epoch}/{epochs} | Step : {i+1}/{n_iteration} | Input shape : {input.shape} | Label Shape : {labels.shape}\")\n"
   ]
  },
  {
   "cell_type": "code",
   "execution_count": null,
   "metadata": {},
   "outputs": [],
   "source": []
  }
 ],
 "metadata": {
  "kernelspec": {
   "display_name": "Python 3",
   "language": "python",
   "name": "python3"
  },
  "language_info": {
   "codemirror_mode": {
    "name": "ipython",
    "version": 3
   },
   "file_extension": ".py",
   "mimetype": "text/x-python",
   "name": "python",
   "nbconvert_exporter": "python",
   "pygments_lexer": "ipython3",
   "version": "3.10.12"
  }
 },
 "nbformat": 4,
 "nbformat_minor": 2
}
