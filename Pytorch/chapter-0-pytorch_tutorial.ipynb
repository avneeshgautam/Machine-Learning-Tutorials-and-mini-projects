{
 "cells": [
  {
   "cell_type": "code",
   "execution_count": 2,
   "metadata": {},
   "outputs": [],
   "source": [
    "import torch"
   ]
  },
  {
   "cell_type": "code",
   "execution_count": 3,
   "metadata": {},
   "outputs": [
    {
     "name": "stdout",
     "output_type": "stream",
     "text": [
      "Mon Dec 23 22:34:07 2024       \n",
      "+---------------------------------------------------------------------------------------+\n",
      "| NVIDIA-SMI 535.183.01             Driver Version: 535.183.01   CUDA Version: 12.2     |\n",
      "|-----------------------------------------+----------------------+----------------------+\n",
      "| GPU  Name                 Persistence-M | Bus-Id        Disp.A | Volatile Uncorr. ECC |\n",
      "| Fan  Temp   Perf          Pwr:Usage/Cap |         Memory-Usage | GPU-Util  Compute M. |\n",
      "|                                         |                      |               MIG M. |\n",
      "|=========================================+======================+======================|\n",
      "|   0  NVIDIA GeForce GTX 1080 Ti     Off | 00000000:60:00.0 Off |                  N/A |\n",
      "|  0%   38C    P8              17W / 250W |      9MiB / 11264MiB |      0%      Default |\n",
      "|                                         |                      |                  N/A |\n",
      "+-----------------------------------------+----------------------+----------------------+\n",
      "|   1  NVIDIA GeForce GTX 1080 Ti     Off | 00000000:61:00.0 Off |                  N/A |\n",
      "|  0%   39C    P8              11W / 250W |   7381MiB / 11264MiB |      0%      Default |\n",
      "|                                         |                      |                  N/A |\n",
      "+-----------------------------------------+----------------------+----------------------+\n",
      "|   2  NVIDIA GeForce GTX 1080 Ti     Off | 00000000:B1:00.0 Off |                  N/A |\n",
      "|  0%   35C    P8               8W / 250W |      9MiB / 11264MiB |      0%      Default |\n",
      "|                                         |                      |                  N/A |\n",
      "+-----------------------------------------+----------------------+----------------------+\n",
      "|   3  NVIDIA GeForce GTX 1080 Ti     Off | 00000000:B2:00.0 Off |                  N/A |\n",
      "|  0%   33C    P8               9W / 250W |      9MiB / 11264MiB |      0%      Default |\n",
      "|                                         |                      |                  N/A |\n",
      "+-----------------------------------------+----------------------+----------------------+\n",
      "|   4  NVIDIA GeForce GTX 1080 Ti     Off | 00000000:DA:00.0 Off |                  N/A |\n",
      "|  0%   29C    P8              11W / 250W |   1457MiB / 11264MiB |      0%      Default |\n",
      "|                                         |                      |                  N/A |\n",
      "+-----------------------------------------+----------------------+----------------------+\n",
      "|   5  NVIDIA GeForce GTX 1080 Ti     Off | 00000000:DB:00.0 Off |                  N/A |\n",
      "|  0%   28C    P8              11W / 250W |      9MiB / 11264MiB |      0%      Default |\n",
      "|                                         |                      |                  N/A |\n",
      "+-----------------------------------------+----------------------+----------------------+\n",
      "                                                                                         \n",
      "+---------------------------------------------------------------------------------------+\n",
      "| Processes:                                                                            |\n",
      "|  GPU   GI   CI        PID   Type   Process name                            GPU Memory |\n",
      "|        ID   ID                                                             Usage      |\n",
      "|=======================================================================================|\n",
      "|    0   N/A  N/A      3290      G   /usr/lib/xorg/Xorg                            4MiB |\n",
      "|    1   N/A  N/A      3290      G   /usr/lib/xorg/Xorg                            4MiB |\n",
      "|    1   N/A  N/A    994885      C   /usr/bin/python3                           7372MiB |\n",
      "|    2   N/A  N/A      3290      G   /usr/lib/xorg/Xorg                            4MiB |\n",
      "|    3   N/A  N/A      3290      G   /usr/lib/xorg/Xorg                            4MiB |\n",
      "|    4   N/A  N/A      3290      G   /usr/lib/xorg/Xorg                            4MiB |\n",
      "|    4   N/A  N/A   3525027      C   python3                                    1448MiB |\n",
      "|    5   N/A  N/A      3290      G   /usr/lib/xorg/Xorg                            4MiB |\n",
      "+---------------------------------------------------------------------------------------+\n"
     ]
    }
   ],
   "source": [
    "!nvidia-smi"
   ]
  },
  {
   "cell_type": "markdown",
   "metadata": {},
   "source": [
    "## Checking GPU access using `pytorch`"
   ]
  },
  {
   "cell_type": "code",
   "execution_count": 2,
   "metadata": {},
   "outputs": [
    {
     "data": {
      "text/plain": [
       "True"
      ]
     },
     "execution_count": 2,
     "metadata": {},
     "output_type": "execute_result"
    }
   ],
   "source": [
    "# checking gpu\n",
    "import torch\n",
    "torch.cuda.is_available()"
   ]
  },
  {
   "cell_type": "code",
   "execution_count": 13,
   "metadata": {},
   "outputs": [
    {
     "data": {
      "text/plain": [
       "'cuda:1'"
      ]
     },
     "execution_count": 13,
     "metadata": {},
     "output_type": "execute_result"
    }
   ],
   "source": [
    "device = \"cuda:1\" if torch.cuda.is_available() else \"cpu\"\n",
    "device"
   ]
  },
  {
   "cell_type": "code",
   "execution_count": 6,
   "metadata": {},
   "outputs": [
    {
     "data": {
      "text/plain": [
       "6"
      ]
     },
     "execution_count": 6,
     "metadata": {},
     "output_type": "execute_result"
    }
   ],
   "source": [
    "# COUNT NUMER OF  GPUTS\n",
    "torch.cuda.device_count()"
   ]
  },
  {
   "cell_type": "code",
   "execution_count": 24,
   "metadata": {},
   "outputs": [
    {
     "data": {
      "text/plain": [
       "(torch.Size([2444, 3444]), device(type='cpu'))"
      ]
     },
     "execution_count": 24,
     "metadata": {},
     "output_type": "execute_result"
    }
   ],
   "source": [
    "RANDOM_SEED = 42\n",
    "torch.manual_seed(RANDOM_SEED)\n",
    "tensor = torch.rand(2444,3444)\n",
    "tensor.shape, tensor.device"
   ]
  },
  {
   "cell_type": "code",
   "execution_count": 25,
   "metadata": {},
   "outputs": [
    {
     "data": {
      "text/plain": [
       "(torch.Size([2444, 3444]), device(type='cuda', index=1))"
      ]
     },
     "execution_count": 25,
     "metadata": {},
     "output_type": "execute_result"
    }
   ],
   "source": [
    "tensor_on_gpu = tensor.to(device)\n",
    "tensor_on_gpu.shape, tensor_on_gpu.device"
   ]
  },
  {
   "cell_type": "code",
   "execution_count": 26,
   "metadata": {},
   "outputs": [
    {
     "name": "stdout",
     "output_type": "stream",
     "text": [
      "CPU times: user 1.06 s, sys: 122 ms, total: 1.18 s\n",
      "Wall time: 43.2 ms\n"
     ]
    },
    {
     "data": {
      "text/plain": [
       "torch.Size([2444, 2444])"
      ]
     },
     "execution_count": 26,
     "metadata": {},
     "output_type": "execute_result"
    }
   ],
   "source": [
    "%%time\n",
    "rst = tensor @ tensor.T\n",
    "rst.shape\n"
   ]
  },
  {
   "cell_type": "code",
   "execution_count": 31,
   "metadata": {},
   "outputs": [
    {
     "name": "stdout",
     "output_type": "stream",
     "text": [
      "CPU times: user 793 µs, sys: 903 µs, total: 1.7 ms\n",
      "Wall time: 1.31 ms\n"
     ]
    },
    {
     "data": {
      "text/plain": [
       "torch.Size([2444, 2444])"
      ]
     },
     "execution_count": 31,
     "metadata": {},
     "output_type": "execute_result"
    }
   ],
   "source": [
    "%%time \n",
    "rst = tensor_on_gpu@ tensor_on_gpu.T\n",
    "rst.shape"
   ]
  },
  {
   "cell_type": "code",
   "execution_count": 45,
   "metadata": {},
   "outputs": [
    {
     "data": {
      "text/plain": [
       "((2444, 3444), dtype('float32'))"
      ]
     },
     "execution_count": 45,
     "metadata": {},
     "output_type": "execute_result"
    }
   ],
   "source": [
    "tensor_cpu = tensor_on_gpu.to(\"cpu\").numpy()\n",
    "tensor_cpu.shape, tensor_cpu.dtype"
   ]
  },
  {
   "cell_type": "code",
   "execution_count": null,
   "metadata": {},
   "outputs": [],
   "source": []
  },
  {
   "cell_type": "markdown",
   "metadata": {},
   "source": [
    "## understanding squeeze and unsqueeze again"
   ]
  },
  {
   "cell_type": "code",
   "execution_count": 1,
   "metadata": {},
   "outputs": [],
   "source": [
    "import torch"
   ]
  },
  {
   "cell_type": "code",
   "execution_count": 4,
   "metadata": {},
   "outputs": [
    {
     "data": {
      "text/plain": [
       "(tensor([[17, 12, 12, 19, 13, 14, 18, 12, 10]]), torch.Size([1, 9]))"
      ]
     },
     "execution_count": 4,
     "metadata": {},
     "output_type": "execute_result"
    }
   ],
   "source": [
    "a = torch.randint(10,20,(1,9))\n",
    "a, a.shape"
   ]
  },
  {
   "cell_type": "code",
   "execution_count": 7,
   "metadata": {},
   "outputs": [
    {
     "data": {
      "text/plain": [
       "(tensor([17, 12, 12, 19, 13, 14, 18, 12, 10]), torch.Size([9]), 1)"
      ]
     },
     "execution_count": 7,
     "metadata": {},
     "output_type": "execute_result"
    }
   ],
   "source": [
    "s = a.squeeze()\n",
    "s , s.shape, s.ndim"
   ]
  },
  {
   "cell_type": "code",
   "execution_count": 8,
   "metadata": {},
   "outputs": [
    {
     "data": {
      "text/plain": [
       "(tensor([[[[17],\n",
       "           [16],\n",
       "           [17],\n",
       "           [13]],\n",
       " \n",
       "          [[14],\n",
       "           [12],\n",
       "           [18],\n",
       "           [13]],\n",
       " \n",
       "          [[14],\n",
       "           [14],\n",
       "           [16],\n",
       "           [14]],\n",
       " \n",
       "          [[19],\n",
       "           [13],\n",
       "           [18],\n",
       "           [12]],\n",
       " \n",
       "          [[19],\n",
       "           [17],\n",
       "           [14],\n",
       "           [15]],\n",
       " \n",
       "          [[19],\n",
       "           [15],\n",
       "           [15],\n",
       "           [17]],\n",
       " \n",
       "          [[12],\n",
       "           [10],\n",
       "           [15],\n",
       "           [11]],\n",
       " \n",
       "          [[13],\n",
       "           [12],\n",
       "           [16],\n",
       "           [18]],\n",
       " \n",
       "          [[16],\n",
       "           [14],\n",
       "           [13],\n",
       "           [10]]]]),\n",
       " torch.Size([1, 9, 4, 1]))"
      ]
     },
     "execution_count": 8,
     "metadata": {},
     "output_type": "execute_result"
    }
   ],
   "source": [
    "a = torch.randint(10,20,(1,9,4,1))\n",
    "a, a.shape"
   ]
  },
  {
   "cell_type": "code",
   "execution_count": 9,
   "metadata": {},
   "outputs": [
    {
     "data": {
      "text/plain": [
       "(tensor([[17, 16, 17, 13],\n",
       "         [14, 12, 18, 13],\n",
       "         [14, 14, 16, 14],\n",
       "         [19, 13, 18, 12],\n",
       "         [19, 17, 14, 15],\n",
       "         [19, 15, 15, 17],\n",
       "         [12, 10, 15, 11],\n",
       "         [13, 12, 16, 18],\n",
       "         [16, 14, 13, 10]]),\n",
       " torch.Size([9, 4]))"
      ]
     },
     "execution_count": 9,
     "metadata": {},
     "output_type": "execute_result"
    }
   ],
   "source": [
    "s = a.squeeze()\n",
    "s, s.shape"
   ]
  },
  {
   "cell_type": "code",
   "execution_count": null,
   "metadata": {},
   "outputs": [],
   "source": []
  }
 ],
 "metadata": {
  "kernelspec": {
   "display_name": "Python 3",
   "language": "python",
   "name": "python3"
  },
  "language_info": {
   "codemirror_mode": {
    "name": "ipython",
    "version": 3
   },
   "file_extension": ".py",
   "mimetype": "text/x-python",
   "name": "python",
   "nbconvert_exporter": "python",
   "pygments_lexer": "ipython3",
   "version": "3.10.12"
  }
 },
 "nbformat": 4,
 "nbformat_minor": 4
}
